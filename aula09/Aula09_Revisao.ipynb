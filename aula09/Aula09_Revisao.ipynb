{
 "cells": [
  {
   "cell_type": "markdown",
   "metadata": {},
   "source": [
    "![Algoritmos e Estrutura de Dados I](AED1_banner.jpg)"
   ]
  },
  {
   "cell_type": "markdown",
   "metadata": {},
   "source": [
    "## <font color='blue'>Algoritmos e Estrutura de Dados I</font>\n",
    "## <font color='blue'>Aula 9 -  Revisão</font>"
   ]
  },
  {
   "cell_type": "code",
   "execution_count": null,
   "metadata": {},
   "outputs": [],
   "source": [
    "# Versão da Linguagem Python\n",
    "from platform import python_version\n",
    "print('Versão da Linguagem Python Usada Neste Jupyter Notebook:', python_version())"
   ]
  },
  {
   "cell_type": "markdown",
   "metadata": {},
   "source": [
    "## Estrutura sequencial"
   ]
  },
  {
   "cell_type": "markdown",
   "metadata": {},
   "source": [
    "Escreva um programa em Python que solicite ao usuário o valor de dois números, calcule e exiba a soma deles."
   ]
  },
  {
   "cell_type": "code",
   "execution_count": 2,
   "metadata": {},
   "outputs": [
    {
     "name": "stdin",
     "output_type": "stream",
     "text": [
      "Digite um numero qualquer 2\n",
      "Digite um outro numero qualquer 4\n"
     ]
    },
    {
     "name": "stdout",
     "output_type": "stream",
     "text": [
      "A soma dos numeros é 6.0 muito bom \n"
     ]
    }
   ],
   "source": [
    "a = float(input(\"Digite um numero qualquer\"))\n",
    "b = float(input(\"Digite um outro numero qualquer\"))\n",
    "\n",
    "c = b+a\n",
    "\n",
    "print(f\"A soma dos numeros é {c} muito bom \")\n"
   ]
  },
  {
   "attachments": {},
   "cell_type": "markdown",
   "metadata": {},
   "source": [
    "Escreva um programa em Python que solicite ao usuário a temperatura em graus Celsius e converta para Fahrenheit. A fórmula para conversão é F = C * 9/5 + 32.\n"
   ]
  },
  {
   "cell_type": "code",
   "execution_count": 3,
   "metadata": {},
   "outputs": [
    {
     "name": "stdin",
     "output_type": "stream",
     "text": [
      " Escreva a temperatura em graus celsius: 28\n"
     ]
    },
    {
     "name": "stdout",
     "output_type": "stream",
     "text": [
      "Sua temperatura em Fahrenheit é 82.4 muito bom você chegou lá\n"
     ]
    }
   ],
   "source": [
    "Celsius = float(input(\" Escreva a temperatura em graus celsius:\"))\n",
    "\n",
    "F = Celsius * 9/5 + 32\n",
    "\n",
    "print(f\"Sua temperatura em Fahrenheit é {F} muito bom você chegou lá\")\n"
   ]
  },
  {
   "cell_type": "markdown",
   "metadata": {},
   "source": [
    "## Estrutura Condicional"
   ]
  },
  {
   "cell_type": "markdown",
   "metadata": {},
   "source": [
    "Escreva um programa em Python que solicite ao usuário um número e verifique se ele é positivo, negativo ou zero. Exiba a mensagem correspondente.\n"
   ]
  },
  {
   "cell_type": "code",
   "execution_count": 20,
   "metadata": {},
   "outputs": [
    {
     "name": "stdin",
     "output_type": "stream",
     "text": [
      " Digite Qualquer numero 0\n"
     ]
    },
    {
     "name": "stdout",
     "output_type": "stream",
     "text": [
      "ele é zero seu numero é 0.0\n"
     ]
    }
   ],
   "source": [
    "numero = float(input(\" Digite Qualquer numero\"))\n",
    "\n",
    "if numero > 0:\n",
    "    print(f\"ele é positivo seu numero é {numero}\")\n",
    "elif numero < 0:\n",
    "    print(f\"ele é negativo seu numero é {numero}\")\n",
    "else:\n",
    "    print(f\"ele é zero seu numero é {numero}\")"
   ]
  },
  {
   "cell_type": "markdown",
   "metadata": {},
   "source": [
    "Escreva um programa em Python que solicite ao usuário três números e determine qual é o maior entre eles.\n"
   ]
  },
  {
   "cell_type": "code",
   "execution_count": 29,
   "metadata": {},
   "outputs": [
    {
     "name": "stdin",
     "output_type": "stream",
     "text": [
      " Digite Qualquer numero 0\n",
      " Digite Qualquer numero 0\n",
      " Digite Qualquer numero 0\n"
     ]
    },
    {
     "name": "stdout",
     "output_type": "stream",
     "text": [
      "o numero maior é o 0.0\n"
     ]
    }
   ],
   "source": [
    "numero = float(input(\" Digite Qualquer numero\"))\n",
    "numero2 = float(input(\" Digite Qualquer numero\"))\n",
    "numero3 = float(input(\" Digite Qualquer numero\"))\n",
    "\n",
    "if numero > numero2 and numero > numero3 :\n",
    "    print(f\"o numero maior é o {numero}\")\n",
    "    \n",
    "elif numero2 > numero and numero2 > numero3:\n",
    "    print(f\"o numero maior é o {numero2}\")\n",
    "else :\n",
    "    print(f\"o numero maior é o {numero3}\")\n",
    "\n",
    "\n",
    "\n",
    "\n",
    "\n"
   ]
  },
  {
   "cell_type": "markdown",
   "metadata": {},
   "source": [
    "## Estrutura de Repetição"
   ]
  },
  {
   "cell_type": "markdown",
   "metadata": {},
   "source": [
    "escreva um programa que escreva que solicte um numero inteiro positivo de 1 a 9 ( você tem que verificar se o usario não digitou fora desse intervalo) e em seguida , deve exibir a tabuada desse número."
   ]
  },
  {
   "cell_type": "code",
   "execution_count": 44,
   "metadata": {},
   "outputs": [
    {
     "name": "stdin",
     "output_type": "stream",
     "text": [
      " digite um valor de 0 a 9 :  o\n"
     ]
    },
    {
     "name": "stdout",
     "output_type": "stream",
     "text": [
      "O que foi digitado não é um numero! Repita!\n"
     ]
    },
    {
     "name": "stdin",
     "output_type": "stream",
     "text": [
      " digite um valor de 0 a 9 :  a\n"
     ]
    },
    {
     "name": "stdout",
     "output_type": "stream",
     "text": [
      "O que foi digitado não é um numero! Repita!\n"
     ]
    },
    {
     "name": "stdin",
     "output_type": "stream",
     "text": [
      " digite um valor de 0 a 9 :  w\n"
     ]
    },
    {
     "name": "stdout",
     "output_type": "stream",
     "text": [
      "O que foi digitado não é um numero! Repita!\n"
     ]
    },
    {
     "name": "stdin",
     "output_type": "stream",
     "text": [
      " digite um valor de 0 a 9 :  10\n"
     ]
    },
    {
     "name": "stdout",
     "output_type": "stream",
     "text": [
      "Digite um valor entre 1 e 9!\n"
     ]
    },
    {
     "name": "stdin",
     "output_type": "stream",
     "text": [
      " digite um valor de 0 a 9 :  2\n"
     ]
    },
    {
     "name": "stdout",
     "output_type": "stream",
     "text": [
      " 1 x  2.0 =   2.0\n",
      " 2 x  2.0 =   4.0\n",
      " 3 x  2.0 =   6.0\n",
      " 4 x  2.0 =   8.0\n",
      " 5 x  2.0 =  10.0\n",
      " 6 x  2.0 =  12.0\n",
      " 7 x  2.0 =  14.0\n",
      " 8 x  2.0 =  16.0\n",
      " 9 x  2.0 =  18.0\n",
      "10 x  2.0 =  20.0\n"
     ]
    }
   ],
   "source": [
    "while True:\n",
    "    digitacao = input(\" digite um valor de 0 a 9 : \")\n",
    "    if digitacao.isnumeric():\n",
    "        numero = float(digitacao)\n",
    "        if numero >=1 and numero <= 9 :\n",
    "            break\n",
    "        else:\n",
    "            print(\"Digite um valor entre 1 e 9!\")\n",
    "    else:\n",
    "        print(\"O que foi digitado não é um numero! Repita!\")\n",
    "for i in range (1, 11):\n",
    "    print(f\"{i:2d} x {numero:4.1f} =  {(i*numero):4.1f}\") \n",
    "        "
   ]
  },
  {
   "cell_type": "markdown",
   "metadata": {},
   "source": [
    "Escreva um programa em Python que solicite ao usuário um número inteiro positivo e calcule o fatorial desse número.\n"
   ]
  },
  {
   "cell_type": "code",
   "execution_count": 77,
   "metadata": {},
   "outputs": [
    {
     "name": "stdin",
     "output_type": "stream",
     "text": [
      "Escreva um numero positivo  5\n"
     ]
    },
    {
     "name": "stdout",
     "output_type": "stream",
     "text": [
      "O fatorial de 5 é 120\n"
     ]
    }
   ],
   "source": [
    "while True:\n",
    "    a = input(\"Escreva um numero positivo \")\n",
    "    resultado = 1 \n",
    "    if a.isnumeric():\n",
    "        numero = int(a)\n",
    "        if numero > 0 :\n",
    "            break\n",
    "        else:\n",
    "            print(\"digite um numero inteiro positivo!\")\n",
    "    else:\n",
    "        print(\"O que foi digitado não é um numero positvo! Repita!\")\n",
    "        \n",
    "for i in range ( 1, numero+1):\n",
    "     resultado *= i\n",
    "    \n",
    "print(f\"O fatorial de {numero} é {resultado}\")\n",
    "    \n"
   ]
  },
  {
   "cell_type": "markdown",
   "metadata": {},
   "source": [
    "## Geral"
   ]
  },
  {
   "cell_type": "markdown",
   "metadata": {},
   "source": [
    "Você é um cientista de dados e precisa analisar as notas de um conjunto de estudantes em uma disciplina. Você deverá escrever um programa em Python que solicite ao usuário o número de estudantes e, em seguida, as notas desses estudantes. O programa deve calcular e exibir:\n",
    "\n",
    "- A média das notas.\n",
    "- A maior e a menor nota.\n",
    "- O número de estudantes aprovados (nota maior ou igual a 6) e reprovados (nota menor que 6).\n",
    "\n",
    "Regras:\n",
    "\n",
    "- Utilize variáveis simples para armazenar as informações.\n",
    "- Utilize estruturas de repetição para coletar as notas dos estudantes.\n",
    "- Utilize estruturas condicionais para determinar o status de aprovação dos estudantes."
   ]
  },
  {
   "cell_type": "code",
   "execution_count": 84,
   "metadata": {},
   "outputs": [
    {
     "name": "stdin",
     "output_type": "stream",
     "text": [
      "Digite o total de estudantes:  10\n",
      " entre com a nota do aluno 1:  5\n",
      " entre com a nota do aluno 2:  7\n",
      " entre com a nota do aluno 3:  8\n",
      " entre com a nota do aluno 4:  10\n",
      " entre com a nota do aluno 5:  2\n",
      " entre com a nota do aluno 6:  5\n",
      " entre com a nota do aluno 7:  5.3\n",
      " entre com a nota do aluno 8:  7.6\n",
      " entre com a nota do aluno 9:  6\n",
      " entre com a nota do aluno 10:  9.5\n"
     ]
    },
    {
     "name": "stdout",
     "output_type": "stream",
     "text": [
      "A médias das notas é igual a: 6.540000000000001\n",
      "A maior nota é igual a: 10.0\n",
      "A menor nota é igual a: 2.0\n",
      "O Numero de aprovas é: 6\n",
      "o numero de repovados é: 4\n"
     ]
    }
   ],
   "source": [
    "qtd_alunos = int(input(\"Digite o total de estudantes: \"))\n",
    "soma_notas = 0\n",
    "maior = 0\n",
    "menor = 100\n",
    "qtd_aprov = 0\n",
    "qtd_repro = 0\n",
    "for i in range(qtd_alunos):\n",
    "    nota = float(input(f\" entre com a nota do aluno {i+1}: \"))\n",
    "    if nota >= 6:\n",
    "        qtd_aprov += 1\n",
    "    else:\n",
    "        qtd_repro += 1\n",
    "    if nota > maior:\n",
    "         maior = nota\n",
    "    if nota < menor:\n",
    "        menor = nota\n",
    "    soma_notas += nota\n",
    "\n",
    "media = soma_notas / qtd_alunos\n",
    "\n",
    "print(f\"A médias das notas é igual a: {media}\")\n",
    "print(f\"A maior nota é igual a: {maior}\")\n",
    "print(f\"A menor nota é igual a: {menor}\")\n",
    "print(f\"O Numero de aprovas é: {qtd_aprov}\")\n",
    "print(f\"o numero de repovados é: {qtd_repro}\")"
   ]
  },
  {
   "cell_type": "markdown",
   "metadata": {},
   "source": [
    "Faça um programa que receba um número inteiro positivo e transforme esse número para binário."
   ]
  },
  {
   "cell_type": "code",
   "execution_count": 87,
   "metadata": {},
   "outputs": [
    {
     "ename": "IndentationError",
     "evalue": "unexpected indent (1722445097.py, line 2)",
     "output_type": "error",
     "traceback": [
      "\u001b[1;36m  Cell \u001b[1;32mIn[87], line 2\u001b[1;36m\u001b[0m\n\u001b[1;33m    if numero == 0:\u001b[0m\n\u001b[1;37m    ^\u001b[0m\n\u001b[1;31mIndentationError\u001b[0m\u001b[1;31m:\u001b[0m unexpected indent\n"
     ]
    }
   ],
   "source": [
    "numero = int(input(\"Digite um numero: \"))\n",
    "    if numero == 0:\n",
    "        print(\"seu numero é zero vai cagar !!\")\n",
    "    binario = \"\"\n",
    "    while numero > 0:\n",
    "        binario = str(numero %2) + binario\n",
    "        numero // = 2\n",
    "    \n",
    "\n",
    "    "
   ]
  },
  {
   "cell_type": "code",
   "execution_count": 94,
   "metadata": {},
   "outputs": [
    {
     "name": "stdin",
     "output_type": "stream",
     "text": [
      "Digite um número:  0\n"
     ]
    },
    {
     "name": "stdout",
     "output_type": "stream",
     "text": [
      "Seu número é zero ou negativo, vai cagar. esse seu numero é 0!!\n"
     ]
    }
   ],
   "source": [
    "numero = int(input(\"Digite um número positivo: \"))\n",
    "\n",
    "if numero == 0 or numero < 0:\n",
    "    print(f\"Seu número é zero ou negativo, vai cagar. esse seu numero é {numero}!!\")\n",
    "else:\n",
    "    binario = \"\"\n",
    "    while numero > 0:\n",
    "        binario = str(numero % 2) + binario\n",
    "        numero //= 2  # Remova o espaço entre // e =\n",
    "\n",
    "    print(f\"O número em binário é: {binario}\")"
   ]
  },
  {
   "cell_type": "markdown",
   "metadata": {},
   "source": [
    "## Fim da Aula 9"
   ]
  }
 ],
 "metadata": {
  "kernelspec": {
   "display_name": "Python 3 (ipykernel)",
   "language": "python",
   "name": "python3"
  },
  "language_info": {
   "codemirror_mode": {
    "name": "ipython",
    "version": 3
   },
   "file_extension": ".py",
   "mimetype": "text/x-python",
   "name": "python",
   "nbconvert_exporter": "python",
   "pygments_lexer": "ipython3",
   "version": "3.12.4"
  }
 },
 "nbformat": 4,
 "nbformat_minor": 4
}
