{
 "cells": [
  {
   "cell_type": "code",
   "execution_count": 2,
   "id": "e011ed10-9e2f-480c-b09b-e4f0c13af486",
   "metadata": {},
   "outputs": [
    {
     "name": "stdout",
     "output_type": "stream",
     "text": [
      "vai toma no cu mundo\n"
     ]
    }
   ],
   "source": [
    "print (\"vai toma no cu mundo\")"
   ]
  },
  {
   "cell_type": "code",
   "execution_count": 4,
   "id": "6ed1b9aa-d27b-4bf4-8840-ab4456f13360",
   "metadata": {},
   "outputs": [],
   "source": [
    "x=3\n",
    "b=4\n",
    "c=2\n",
    "\n",
    "y=(x+(3*b)/(2*x)+c)"
   ]
  },
  {
   "cell_type": "code",
   "execution_count": null,
   "id": "8162bd83-b648-49f8-97f3-d62e9656527b",
   "metadata": {},
   "outputs": [],
   "source": []
  },
  {
   "cell_type": "code",
   "execution_count": 5,
   "id": "1f76d43d-1a09-41da-a30c-a1e966d3b925",
   "metadata": {},
   "outputs": [
    {
     "data": {
      "text/plain": [
       "7.0"
      ]
     },
     "execution_count": 5,
     "metadata": {},
     "output_type": "execute_result"
    }
   ],
   "source": [
    "y"
   ]
  },
  {
   "cell_type": "code",
   "execution_count": null,
   "id": "127db2b5-2f1c-4b28-9f51-af11ad9f2668",
   "metadata": {},
   "outputs": [],
   "source": []
  },
  {
   "cell_type": "code",
   "execution_count": 6,
   "id": "05e9153d-f12a-499e-a88a-1038f0c31b76",
   "metadata": {},
   "outputs": [],
   "source": [
    "x=5\n",
    "y=3\n",
    "\n",
    "z = x>y"
   ]
  },
  {
   "cell_type": "code",
   "execution_count": 7,
   "id": "3540be3f-4d95-46d3-9c6d-d0e13eda585d",
   "metadata": {},
   "outputs": [
    {
     "data": {
      "text/plain": [
       "True"
      ]
     },
     "execution_count": 7,
     "metadata": {},
     "output_type": "execute_result"
    }
   ],
   "source": [
    "z"
   ]
  },
  {
   "cell_type": "code",
   "execution_count": 8,
   "id": "469e3929-dcc5-4b15-8f1b-53583eb15e83",
   "metadata": {},
   "outputs": [
    {
     "data": {
      "text/plain": [
       "3"
      ]
     },
     "execution_count": 8,
     "metadata": {},
     "output_type": "execute_result"
    }
   ],
   "source": [
    "y"
   ]
  },
  {
   "cell_type": "code",
   "execution_count": 9,
   "id": "72627b28-a80a-4530-8e25-4d16c5d7ead2",
   "metadata": {},
   "outputs": [],
   "source": [
    "r = y>= x"
   ]
  },
  {
   "cell_type": "code",
   "execution_count": 10,
   "id": "b30686e7-087f-4d4f-93b3-3ef15ffc7ee3",
   "metadata": {},
   "outputs": [
    {
     "data": {
      "text/plain": [
       "False"
      ]
     },
     "execution_count": 10,
     "metadata": {},
     "output_type": "execute_result"
    }
   ],
   "source": [
    "r"
   ]
  },
  {
   "cell_type": "code",
   "execution_count": 1,
   "id": "ac831728-c10f-459a-8383-dc0262a923e9",
   "metadata": {},
   "outputs": [],
   "source": [
    "x = 5 "
   ]
  },
  {
   "cell_type": "code",
   "execution_count": 2,
   "id": "51cf7623-2bd6-4b68-a820-436410d044a9",
   "metadata": {},
   "outputs": [
    {
     "data": {
      "text/plain": [
       "int"
      ]
     },
     "execution_count": 2,
     "metadata": {},
     "output_type": "execute_result"
    }
   ],
   "source": [
    "type (x)"
   ]
  },
  {
   "cell_type": "code",
   "execution_count": 3,
   "id": "29c3db59-6c3a-466c-a407-39b3bb3a020d",
   "metadata": {},
   "outputs": [],
   "source": [
    "x = 45.5"
   ]
  },
  {
   "cell_type": "code",
   "execution_count": 4,
   "id": "ded9c7cd-5c30-4ce0-826c-95e1b6b01263",
   "metadata": {},
   "outputs": [
    {
     "data": {
      "text/plain": [
       "float"
      ]
     },
     "execution_count": 4,
     "metadata": {},
     "output_type": "execute_result"
    }
   ],
   "source": [
    "type (x)"
   ]
  },
  {
   "cell_type": "code",
   "execution_count": null,
   "id": "823ef7ba-f734-421d-ad13-2e4420f7a1c5",
   "metadata": {},
   "outputs": [],
   "source": []
  }
 ],
 "metadata": {
  "kernelspec": {
   "display_name": "Python 3 (ipykernel)",
   "language": "python",
   "name": "python3"
  },
  "language_info": {
   "codemirror_mode": {
    "name": "ipython",
    "version": 3
   },
   "file_extension": ".py",
   "mimetype": "text/x-python",
   "name": "python",
   "nbconvert_exporter": "python",
   "pygments_lexer": "ipython3",
   "version": "3.12.4"
  }
 },
 "nbformat": 4,
 "nbformat_minor": 5
}
